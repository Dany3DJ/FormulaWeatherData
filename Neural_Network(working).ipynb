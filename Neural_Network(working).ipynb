{
 "cells": [
  {
   "cell_type": "markdown",
   "id": "993ad8b7",
   "metadata": {},
   "source": [
    "# Importing Required Libraries"
   ]
  },
  {
   "cell_type": "markdown",
   "id": "e08126e0",
   "metadata": {},
   "source": [
    "- Pandas for using dataframes as variable containers\n",
    "- Keras for neural network models\n",
    "- Matplotlib and Seaborn for plotting\n",
    "- SKLearn for preprocessing\n",
    "- Numpy for data manipulation\n",
    "- random for random data generation"
   ]
  },
  {
   "cell_type": "code",
   "execution_count": 1,
   "id": "a9d5ade6",
   "metadata": {},
   "outputs": [],
   "source": [
    "import pandas as pd\n",
    "from pandas_profiling import ProfileReport\n",
    "\n",
    "import keras\n",
    "from keras import*\n",
    "from keras.layers import*\n",
    "from keras_visualizer import visualizer\n",
    "from keras.utils.vis_utils import plot_model\n",
    "\n",
    "import matplotlib.pyplot as plt\n",
    "import matplotlib\n",
    "import matplotlib.image as mpimg\n",
    "import seaborn as sn \n",
    "\n",
    "from sklearn.model_selection import train_test_split\n",
    "\n",
    "import numpy as np\n",
    "\n",
    "import random"
   ]
  },
  {
   "cell_type": "markdown",
   "id": "c2aefda8",
   "metadata": {},
   "source": [
    "# Importing the Dataset"
   ]
  },
  {
   "cell_type": "markdown",
   "id": "f7877f73",
   "metadata": {},
   "source": [
    "Reading the main csv file and specifing low_memory to be false (this reduces the variable types and sizes to save memory which can cause alot of noise) "
   ]
  },
  {
   "cell_type": "code",
   "execution_count": 2,
   "id": "b84b3588",
   "metadata": {},
   "outputs": [
    {
     "name": "stdout",
     "output_type": "stream",
     "text": [
      "Data original Size : 3572328 rows x 59 columns\n"
     ]
    }
   ],
   "source": [
    "#CSV File Location\n",
    "file = \"weather.csv\"\n",
    "\n",
    "# Loading dataset into pandas dataframe\n",
    "df = pd.read_csv(file,low_memory=False)\n",
    "\n",
    "# Printing the dataframe shape (rows x columns)\n",
    "print(\"Data original Size : %d rows x %d columns\"%(df.shape[0],df.shape[1])) "
   ]
  },
  {
   "cell_type": "markdown",
   "id": "ec7e1b44",
   "metadata": {},
   "source": [
    "# Generating PD Profile Report"
   ]
  },
  {
   "cell_type": "markdown",
   "id": "374ed5ac",
   "metadata": {},
   "source": [
    "A report in generated before any cleaning occurs to inspect the data before taking any decision"
   ]
  },
  {
   "cell_type": "code",
   "execution_count": null,
   "id": "23772ead",
   "metadata": {},
   "outputs": [],
   "source": [
    "profile = ProfileReport(df, title=\"Pandas Profiling Report\", minimal=True)\n",
    "\n",
    "# Saving report to html file\n",
    "profile.to_file(\"Primary_Profile_Report.html\")"
   ]
  },
  {
   "cell_type": "markdown",
   "id": "f1275aef",
   "metadata": {},
   "source": [
    "# Inspecting Correlation Matrix"
   ]
  },
  {
   "cell_type": "markdown",
   "id": "649521aa",
   "metadata": {},
   "source": [
    "A table which displays the correlation coefficients for different variables with respect to the desired output.It helps summarizing the large dataset and to identify specific patterns."
   ]
  },
  {
   "cell_type": "code",
   "execution_count": 3,
   "id": "b59a32fa",
   "metadata": {},
   "outputs": [
    {
     "data": {
      "text/html": [
       "<div>\n",
       "<style scoped>\n",
       "    .dataframe tbody tr th:only-of-type {\n",
       "        vertical-align: middle;\n",
       "    }\n",
       "\n",
       "    .dataframe tbody tr th {\n",
       "        vertical-align: top;\n",
       "    }\n",
       "\n",
       "    .dataframe thead th {\n",
       "        text-align: right;\n",
       "    }\n",
       "</style>\n",
       "<table border=\"1\" class=\"dataframe\">\n",
       "  <thead>\n",
       "    <tr style=\"text-align: right;\">\n",
       "      <th></th>\n",
       "      <th>M_WEATHER</th>\n",
       "      <th>M_RAIN_PERCENTAGE</th>\n",
       "    </tr>\n",
       "  </thead>\n",
       "  <tbody>\n",
       "    <tr>\n",
       "      <th>M_GAME_MINOR_VERSION</th>\n",
       "      <td>-0.035001</td>\n",
       "      <td>-0.118432</td>\n",
       "    </tr>\n",
       "    <tr>\n",
       "      <th>M_SESSION_UID</th>\n",
       "      <td>-0.067724</td>\n",
       "      <td>-0.177354</td>\n",
       "    </tr>\n",
       "    <tr>\n",
       "      <th>M_SESSION_TIME</th>\n",
       "      <td>-0.007734</td>\n",
       "      <td>0.050886</td>\n",
       "    </tr>\n",
       "    <tr>\n",
       "      <th>M_FRAME_IDENTIFIER</th>\n",
       "      <td>-0.037441</td>\n",
       "      <td>-0.006011</td>\n",
       "    </tr>\n",
       "    <tr>\n",
       "      <th>M_PLAYER_CAR_INDEX</th>\n",
       "      <td>-0.265795</td>\n",
       "      <td>0.139027</td>\n",
       "    </tr>\n",
       "    <tr>\n",
       "      <th>M_BRAKING_ASSIST</th>\n",
       "      <td>0.128744</td>\n",
       "      <td>0.226468</td>\n",
       "    </tr>\n",
       "    <tr>\n",
       "      <th>M_SESSION_LINK_IDENTIFIER</th>\n",
       "      <td>0.094370</td>\n",
       "      <td>0.274133</td>\n",
       "    </tr>\n",
       "    <tr>\n",
       "      <th>M_PIT_RELEASE_ASSIST</th>\n",
       "      <td>0.202819</td>\n",
       "      <td>0.237467</td>\n",
       "    </tr>\n",
       "    <tr>\n",
       "      <th>TIMESTAMP</th>\n",
       "      <td>-0.118416</td>\n",
       "      <td>-0.164248</td>\n",
       "    </tr>\n",
       "    <tr>\n",
       "      <th>M_PIT_STOP_WINDOW_IDEAL_LAP</th>\n",
       "      <td>0.158741</td>\n",
       "      <td>-0.034702</td>\n",
       "    </tr>\n",
       "    <tr>\n",
       "      <th>M_TRACK_TEMPERATURE</th>\n",
       "      <td>-0.614053</td>\n",
       "      <td>0.121007</td>\n",
       "    </tr>\n",
       "    <tr>\n",
       "      <th>M_TRACK_LENGTH</th>\n",
       "      <td>0.389966</td>\n",
       "      <td>0.189765</td>\n",
       "    </tr>\n",
       "    <tr>\n",
       "      <th>M_GAME_PAUSED</th>\n",
       "      <td>0.050949</td>\n",
       "      <td>0.009488</td>\n",
       "    </tr>\n",
       "    <tr>\n",
       "      <th>M_FORECAST_ACCURACY</th>\n",
       "      <td>-0.062449</td>\n",
       "      <td>0.110740</td>\n",
       "    </tr>\n",
       "    <tr>\n",
       "      <th>M_AIR_TEMPERATURE</th>\n",
       "      <td>-0.379741</td>\n",
       "      <td>0.152132</td>\n",
       "    </tr>\n",
       "    <tr>\n",
       "      <th>M_NUM_WEATHER_FORECAST_SAMPLES</th>\n",
       "      <td>-0.018511</td>\n",
       "      <td>0.367060</td>\n",
       "    </tr>\n",
       "    <tr>\n",
       "      <th>M_TRACK_ID</th>\n",
       "      <td>-0.393741</td>\n",
       "      <td>-0.200091</td>\n",
       "    </tr>\n",
       "    <tr>\n",
       "      <th>M_ERSASSIST</th>\n",
       "      <td>0.202819</td>\n",
       "      <td>0.237467</td>\n",
       "    </tr>\n",
       "    <tr>\n",
       "      <th>M_FORMULA</th>\n",
       "      <td>-0.023969</td>\n",
       "      <td>-0.014516</td>\n",
       "    </tr>\n",
       "    <tr>\n",
       "      <th>M_SEASON_LINK_IDENTIFIER</th>\n",
       "      <td>0.094370</td>\n",
       "      <td>0.274133</td>\n",
       "    </tr>\n",
       "    <tr>\n",
       "      <th>M_PIT_ASSIST</th>\n",
       "      <td>0.202819</td>\n",
       "      <td>0.237467</td>\n",
       "    </tr>\n",
       "    <tr>\n",
       "      <th>M_GEARBOX_ASSIST</th>\n",
       "      <td>0.202819</td>\n",
       "      <td>0.237467</td>\n",
       "    </tr>\n",
       "    <tr>\n",
       "      <th>M_SESSION_TYPE</th>\n",
       "      <td>0.022748</td>\n",
       "      <td>-0.359983</td>\n",
       "    </tr>\n",
       "    <tr>\n",
       "      <th>M_SPECTATOR_CAR_INDEX</th>\n",
       "      <td>0.017726</td>\n",
       "      <td>0.009337</td>\n",
       "    </tr>\n",
       "    <tr>\n",
       "      <th>M_PIT_STOP_WINDOW_LATEST_LAP</th>\n",
       "      <td>0.160691</td>\n",
       "      <td>-0.034834</td>\n",
       "    </tr>\n",
       "    <tr>\n",
       "      <th>M_WEEKEND_LINK_IDENTIFIER</th>\n",
       "      <td>0.094370</td>\n",
       "      <td>0.274133</td>\n",
       "    </tr>\n",
       "    <tr>\n",
       "      <th>M_DYNAMIC_RACING_LINE_TYPE</th>\n",
       "      <td>0.202819</td>\n",
       "      <td>0.237467</td>\n",
       "    </tr>\n",
       "    <tr>\n",
       "      <th>M_SESSION_TIME_LEFT</th>\n",
       "      <td>-0.019687</td>\n",
       "      <td>0.067034</td>\n",
       "    </tr>\n",
       "    <tr>\n",
       "      <th>M_SESSION_DURATION</th>\n",
       "      <td>0.105859</td>\n",
       "      <td>0.062526</td>\n",
       "    </tr>\n",
       "    <tr>\n",
       "      <th>M_PIT_STOP_REJOIN_POSITION</th>\n",
       "      <td>0.056602</td>\n",
       "      <td>-0.089815</td>\n",
       "    </tr>\n",
       "    <tr>\n",
       "      <th>M_WEATHER_FORECAST_SAMPLES_M_SESSION_TYPE</th>\n",
       "      <td>0.005031</td>\n",
       "      <td>0.474839</td>\n",
       "    </tr>\n",
       "    <tr>\n",
       "      <th>M_TIME_OFFSET</th>\n",
       "      <td>0.005202</td>\n",
       "      <td>0.489043</td>\n",
       "    </tr>\n",
       "    <tr>\n",
       "      <th>M_WEATHER_FORECAST_SAMPLES_M_WEATHER</th>\n",
       "      <td>0.092816</td>\n",
       "      <td>0.867500</td>\n",
       "    </tr>\n",
       "    <tr>\n",
       "      <th>M_WEATHER_FORECAST_SAMPLES_M_TRACK_TEMPERATURE</th>\n",
       "      <td>-0.022552</td>\n",
       "      <td>0.575722</td>\n",
       "    </tr>\n",
       "    <tr>\n",
       "      <th>M_TRACK_TEMPERATURE_CHANGE</th>\n",
       "      <td>-0.016857</td>\n",
       "      <td>0.530948</td>\n",
       "    </tr>\n",
       "    <tr>\n",
       "      <th>M_WEATHER_FORECAST_SAMPLES_M_AIR_TEMPERATURE</th>\n",
       "      <td>-0.028636</td>\n",
       "      <td>0.570559</td>\n",
       "    </tr>\n",
       "    <tr>\n",
       "      <th>M_AIR_TEMPERATURE_CHANGE</th>\n",
       "      <td>-0.019445</td>\n",
       "      <td>0.535547</td>\n",
       "    </tr>\n",
       "    <tr>\n",
       "      <th>M_RAIN_PERCENTAGE</th>\n",
       "      <td>0.088991</td>\n",
       "      <td>1.000000</td>\n",
       "    </tr>\n",
       "    <tr>\n",
       "      <th>M_WEATHER</th>\n",
       "      <td>1.000000</td>\n",
       "      <td>0.088991</td>\n",
       "    </tr>\n",
       "    <tr>\n",
       "      <th>M_AI_DIFFICULTY</th>\n",
       "      <td>-0.245912</td>\n",
       "      <td>-0.063610</td>\n",
       "    </tr>\n",
       "    <tr>\n",
       "      <th>M_PIT_SPEED_LIMIT</th>\n",
       "      <td>-0.139448</td>\n",
       "      <td>0.134720</td>\n",
       "    </tr>\n",
       "    <tr>\n",
       "      <th>M_NETWORK_GAME</th>\n",
       "      <td>0.204437</td>\n",
       "      <td>0.047039</td>\n",
       "    </tr>\n",
       "    <tr>\n",
       "      <th>M_TOTAL_LAPS</th>\n",
       "      <td>-0.091284</td>\n",
       "      <td>0.098738</td>\n",
       "    </tr>\n",
       "    <tr>\n",
       "      <th>M_STEERING_ASSIST</th>\n",
       "      <td>-0.011431</td>\n",
       "      <td>0.281576</td>\n",
       "    </tr>\n",
       "    <tr>\n",
       "      <th>M_IS_SPECTATING</th>\n",
       "      <td>-0.017726</td>\n",
       "      <td>-0.009348</td>\n",
       "    </tr>\n",
       "    <tr>\n",
       "      <th>M_DYNAMIC_RACING_LINE</th>\n",
       "      <td>0.202819</td>\n",
       "      <td>0.237467</td>\n",
       "    </tr>\n",
       "    <tr>\n",
       "      <th>M_DRSASSIST</th>\n",
       "      <td>0.202819</td>\n",
       "      <td>0.237467</td>\n",
       "    </tr>\n",
       "    <tr>\n",
       "      <th>M_NUM_MARSHAL_ZONES</th>\n",
       "      <td>0.188183</td>\n",
       "      <td>0.053465</td>\n",
       "    </tr>\n",
       "  </tbody>\n",
       "</table>\n",
       "</div>"
      ],
      "text/plain": [
       "                                                M_WEATHER  M_RAIN_PERCENTAGE\n",
       "M_GAME_MINOR_VERSION                            -0.035001          -0.118432\n",
       "M_SESSION_UID                                   -0.067724          -0.177354\n",
       "M_SESSION_TIME                                  -0.007734           0.050886\n",
       "M_FRAME_IDENTIFIER                              -0.037441          -0.006011\n",
       "M_PLAYER_CAR_INDEX                              -0.265795           0.139027\n",
       "M_BRAKING_ASSIST                                 0.128744           0.226468\n",
       "M_SESSION_LINK_IDENTIFIER                        0.094370           0.274133\n",
       "M_PIT_RELEASE_ASSIST                             0.202819           0.237467\n",
       "TIMESTAMP                                       -0.118416          -0.164248\n",
       "M_PIT_STOP_WINDOW_IDEAL_LAP                      0.158741          -0.034702\n",
       "M_TRACK_TEMPERATURE                             -0.614053           0.121007\n",
       "M_TRACK_LENGTH                                   0.389966           0.189765\n",
       "M_GAME_PAUSED                                    0.050949           0.009488\n",
       "M_FORECAST_ACCURACY                             -0.062449           0.110740\n",
       "M_AIR_TEMPERATURE                               -0.379741           0.152132\n",
       "M_NUM_WEATHER_FORECAST_SAMPLES                  -0.018511           0.367060\n",
       "M_TRACK_ID                                      -0.393741          -0.200091\n",
       "M_ERSASSIST                                      0.202819           0.237467\n",
       "M_FORMULA                                       -0.023969          -0.014516\n",
       "M_SEASON_LINK_IDENTIFIER                         0.094370           0.274133\n",
       "M_PIT_ASSIST                                     0.202819           0.237467\n",
       "M_GEARBOX_ASSIST                                 0.202819           0.237467\n",
       "M_SESSION_TYPE                                   0.022748          -0.359983\n",
       "M_SPECTATOR_CAR_INDEX                            0.017726           0.009337\n",
       "M_PIT_STOP_WINDOW_LATEST_LAP                     0.160691          -0.034834\n",
       "M_WEEKEND_LINK_IDENTIFIER                        0.094370           0.274133\n",
       "M_DYNAMIC_RACING_LINE_TYPE                       0.202819           0.237467\n",
       "M_SESSION_TIME_LEFT                             -0.019687           0.067034\n",
       "M_SESSION_DURATION                               0.105859           0.062526\n",
       "M_PIT_STOP_REJOIN_POSITION                       0.056602          -0.089815\n",
       "M_WEATHER_FORECAST_SAMPLES_M_SESSION_TYPE        0.005031           0.474839\n",
       "M_TIME_OFFSET                                    0.005202           0.489043\n",
       "M_WEATHER_FORECAST_SAMPLES_M_WEATHER             0.092816           0.867500\n",
       "M_WEATHER_FORECAST_SAMPLES_M_TRACK_TEMPERATURE  -0.022552           0.575722\n",
       "M_TRACK_TEMPERATURE_CHANGE                      -0.016857           0.530948\n",
       "M_WEATHER_FORECAST_SAMPLES_M_AIR_TEMPERATURE    -0.028636           0.570559\n",
       "M_AIR_TEMPERATURE_CHANGE                        -0.019445           0.535547\n",
       "M_RAIN_PERCENTAGE                                0.088991           1.000000\n",
       "M_WEATHER                                        1.000000           0.088991\n",
       "M_AI_DIFFICULTY                                 -0.245912          -0.063610\n",
       "M_PIT_SPEED_LIMIT                               -0.139448           0.134720\n",
       "M_NETWORK_GAME                                   0.204437           0.047039\n",
       "M_TOTAL_LAPS                                    -0.091284           0.098738\n",
       "M_STEERING_ASSIST                               -0.011431           0.281576\n",
       "M_IS_SPECTATING                                 -0.017726          -0.009348\n",
       "M_DYNAMIC_RACING_LINE                            0.202819           0.237467\n",
       "M_DRSASSIST                                      0.202819           0.237467\n",
       "M_NUM_MARSHAL_ZONES                              0.188183           0.053465"
      ]
     },
     "execution_count": 3,
     "metadata": {},
     "output_type": "execute_result"
    }
   ],
   "source": [
    "corrMatrix = df.corr()\n",
    "corrMatrix = corrMatrix.filter(items=['M_WEATHER', 'M_RAIN_PERCENTAGE'])\n",
    "corrMatrix = corrMatrix.dropna()\n",
    "corrMatrix"
   ]
  },
  {
   "cell_type": "markdown",
   "id": "b15afaec",
   "metadata": {},
   "source": [
    "# Data Cleaning"
   ]
  },
  {
   "cell_type": "markdown",
   "id": "09a32a37",
   "metadata": {},
   "source": [
    "The cleaning process consists of 6 main steps:\n",
    "\n",
    "1) Neglecting certain columns as they were irrlevant or causing failures\n",
    "    For example, the M_ZONE_FLAG and M_ZONE_START had missing values alternating with the important features' missing\n",
    "    values. Meaning that if we drop missing values on the entire dataset, results in an empty output\n",
    "    \n",
    "2) Removing duplicate records as they provide no benefit to the model\n",
    "\n",
    "3) Filtering out values that have NUM_WEATHER_FORECAST_SAMPLES equals to 0, as stated by the competition tips as these records provide no value to the model\n",
    "\n",
    "4) Taking only the most relevant values into our dataframe\n",
    "\n",
    "5) Removing missing records (NAN values)\n",
    "\n",
    "6) Removing (0, 45, 90, 120) time offsets as our model needs to predict (5,10,15,30,60) offsets so they provide no benefit\n",
    "\n",
    "Note that, in this case, data normalization technique was eleminated as it caused some inaccuracy in results"
   ]
  },
  {
   "cell_type": "code",
   "execution_count": 4,
   "id": "68d0ebee",
   "metadata": {},
   "outputs": [
    {
     "name": "stdout",
     "output_type": "stream",
     "text": [
      "Data new shape : 457887 rows x 8 columns\n"
     ]
    }
   ],
   "source": [
    "# Dropping GAMEHOST as it's irrelevant\n",
    "# Also, dropping Zone flag and zone start as they cause errors in cleansing\n",
    "df = df.drop(columns=['GAMEHOST','Unnamed: 58','M_ZONE_FLAG','M_ZONE_START'])\n",
    "\n",
    "# Dropping out duplicate values\n",
    "df = df.drop_duplicates()\n",
    "\n",
    "# Filtering out values that have NUM_WEATHER_FORECAST_SAMPLES equals to 0\n",
    "df = df[df['M_NUM_WEATHER_FORECAST_SAMPLES'] != 0]\n",
    "\n",
    "# Taking the most relevant values to out temperature prediction\n",
    "values = df.filter(items=['M_SESSION_TYPE','M_TIME_OFFSET','M_TRACK_TEMPERATURE','M_TRACK_TEMPERATURE_CHANGE', \n",
    "                            'M_AIR_TEMPERATURE','M_AIR_TEMPERATURE_CHANGE','M_WEATHER', 'M_RAIN_PERCENTAGE'])\n",
    "# Dropping empty values\n",
    "values = values.dropna()\n",
    "\n",
    "# Removing unwanted time offsets (0, 45, 90, 120)\n",
    "values = values.drop(values[  (values['M_TIME_OFFSET'] == 0)\n",
    "                            | (values['M_TIME_OFFSET'] == 45) \n",
    "                            | (values['M_TIME_OFFSET'] == 90) \n",
    "                            | (values['M_TIME_OFFSET'] == 120)].index)\n",
    "\n",
    "# Normalizing values\n",
    "#values=(values-values.min())/(values.max()-values.min())\n",
    "\n",
    "print(\"Data new shape : %d rows x %d columns\"%(values.shape[0],values.shape[1]))"
   ]
  },
  {
   "cell_type": "markdown",
   "id": "a31218d0",
   "metadata": {},
   "source": [
    "# Representing Data After Cleaning"
   ]
  },
  {
   "cell_type": "code",
   "execution_count": 5,
   "id": "72f4bc2f",
   "metadata": {},
   "outputs": [
    {
     "data": {
      "text/html": [
       "<div>\n",
       "<style scoped>\n",
       "    .dataframe tbody tr th:only-of-type {\n",
       "        vertical-align: middle;\n",
       "    }\n",
       "\n",
       "    .dataframe tbody tr th {\n",
       "        vertical-align: top;\n",
       "    }\n",
       "\n",
       "    .dataframe thead th {\n",
       "        text-align: right;\n",
       "    }\n",
       "</style>\n",
       "<table border=\"1\" class=\"dataframe\">\n",
       "  <thead>\n",
       "    <tr style=\"text-align: right;\">\n",
       "      <th></th>\n",
       "      <th>M_SESSION_TYPE</th>\n",
       "      <th>M_TIME_OFFSET</th>\n",
       "      <th>M_TRACK_TEMPERATURE</th>\n",
       "      <th>M_TRACK_TEMPERATURE_CHANGE</th>\n",
       "      <th>M_AIR_TEMPERATURE</th>\n",
       "      <th>M_AIR_TEMPERATURE_CHANGE</th>\n",
       "      <th>M_WEATHER</th>\n",
       "      <th>M_RAIN_PERCENTAGE</th>\n",
       "    </tr>\n",
       "  </thead>\n",
       "  <tbody>\n",
       "    <tr>\n",
       "      <th>17039</th>\n",
       "      <td>8</td>\n",
       "      <td>5.0</td>\n",
       "      <td>33</td>\n",
       "      <td>2.0</td>\n",
       "      <td>25</td>\n",
       "      <td>2.0</td>\n",
       "      <td>0</td>\n",
       "      <td>1.0</td>\n",
       "    </tr>\n",
       "    <tr>\n",
       "      <th>17040</th>\n",
       "      <td>8</td>\n",
       "      <td>10.0</td>\n",
       "      <td>33</td>\n",
       "      <td>2.0</td>\n",
       "      <td>25</td>\n",
       "      <td>2.0</td>\n",
       "      <td>0</td>\n",
       "      <td>2.0</td>\n",
       "    </tr>\n",
       "    <tr>\n",
       "      <th>17042</th>\n",
       "      <td>8</td>\n",
       "      <td>5.0</td>\n",
       "      <td>33</td>\n",
       "      <td>2.0</td>\n",
       "      <td>25</td>\n",
       "      <td>2.0</td>\n",
       "      <td>0</td>\n",
       "      <td>5.0</td>\n",
       "    </tr>\n",
       "    <tr>\n",
       "      <th>17043</th>\n",
       "      <td>8</td>\n",
       "      <td>10.0</td>\n",
       "      <td>33</td>\n",
       "      <td>2.0</td>\n",
       "      <td>25</td>\n",
       "      <td>2.0</td>\n",
       "      <td>0</td>\n",
       "      <td>5.0</td>\n",
       "    </tr>\n",
       "    <tr>\n",
       "      <th>17044</th>\n",
       "      <td>8</td>\n",
       "      <td>15.0</td>\n",
       "      <td>33</td>\n",
       "      <td>2.0</td>\n",
       "      <td>25</td>\n",
       "      <td>2.0</td>\n",
       "      <td>0</td>\n",
       "      <td>7.0</td>\n",
       "    </tr>\n",
       "    <tr>\n",
       "      <th>...</th>\n",
       "      <td>...</td>\n",
       "      <td>...</td>\n",
       "      <td>...</td>\n",
       "      <td>...</td>\n",
       "      <td>...</td>\n",
       "      <td>...</td>\n",
       "      <td>...</td>\n",
       "      <td>...</td>\n",
       "    </tr>\n",
       "    <tr>\n",
       "      <th>3572286</th>\n",
       "      <td>8</td>\n",
       "      <td>5.0</td>\n",
       "      <td>33</td>\n",
       "      <td>2.0</td>\n",
       "      <td>25</td>\n",
       "      <td>2.0</td>\n",
       "      <td>0</td>\n",
       "      <td>3.0</td>\n",
       "    </tr>\n",
       "    <tr>\n",
       "      <th>3572287</th>\n",
       "      <td>8</td>\n",
       "      <td>10.0</td>\n",
       "      <td>33</td>\n",
       "      <td>2.0</td>\n",
       "      <td>25</td>\n",
       "      <td>2.0</td>\n",
       "      <td>0</td>\n",
       "      <td>3.0</td>\n",
       "    </tr>\n",
       "    <tr>\n",
       "      <th>3572288</th>\n",
       "      <td>8</td>\n",
       "      <td>15.0</td>\n",
       "      <td>33</td>\n",
       "      <td>2.0</td>\n",
       "      <td>25</td>\n",
       "      <td>2.0</td>\n",
       "      <td>0</td>\n",
       "      <td>3.0</td>\n",
       "    </tr>\n",
       "    <tr>\n",
       "      <th>3572289</th>\n",
       "      <td>8</td>\n",
       "      <td>30.0</td>\n",
       "      <td>33</td>\n",
       "      <td>2.0</td>\n",
       "      <td>25</td>\n",
       "      <td>2.0</td>\n",
       "      <td>0</td>\n",
       "      <td>3.0</td>\n",
       "    </tr>\n",
       "    <tr>\n",
       "      <th>3572291</th>\n",
       "      <td>8</td>\n",
       "      <td>60.0</td>\n",
       "      <td>33</td>\n",
       "      <td>1.0</td>\n",
       "      <td>25</td>\n",
       "      <td>2.0</td>\n",
       "      <td>0</td>\n",
       "      <td>3.0</td>\n",
       "    </tr>\n",
       "  </tbody>\n",
       "</table>\n",
       "<p>457887 rows × 8 columns</p>\n",
       "</div>"
      ],
      "text/plain": [
       "         M_SESSION_TYPE  M_TIME_OFFSET  M_TRACK_TEMPERATURE  \\\n",
       "17039                 8            5.0                   33   \n",
       "17040                 8           10.0                   33   \n",
       "17042                 8            5.0                   33   \n",
       "17043                 8           10.0                   33   \n",
       "17044                 8           15.0                   33   \n",
       "...                 ...            ...                  ...   \n",
       "3572286               8            5.0                   33   \n",
       "3572287               8           10.0                   33   \n",
       "3572288               8           15.0                   33   \n",
       "3572289               8           30.0                   33   \n",
       "3572291               8           60.0                   33   \n",
       "\n",
       "         M_TRACK_TEMPERATURE_CHANGE  M_AIR_TEMPERATURE  \\\n",
       "17039                           2.0                 25   \n",
       "17040                           2.0                 25   \n",
       "17042                           2.0                 25   \n",
       "17043                           2.0                 25   \n",
       "17044                           2.0                 25   \n",
       "...                             ...                ...   \n",
       "3572286                         2.0                 25   \n",
       "3572287                         2.0                 25   \n",
       "3572288                         2.0                 25   \n",
       "3572289                         2.0                 25   \n",
       "3572291                         1.0                 25   \n",
       "\n",
       "         M_AIR_TEMPERATURE_CHANGE  M_WEATHER  M_RAIN_PERCENTAGE  \n",
       "17039                         2.0          0                1.0  \n",
       "17040                         2.0          0                2.0  \n",
       "17042                         2.0          0                5.0  \n",
       "17043                         2.0          0                5.0  \n",
       "17044                         2.0          0                7.0  \n",
       "...                           ...        ...                ...  \n",
       "3572286                       2.0          0                3.0  \n",
       "3572287                       2.0          0                3.0  \n",
       "3572288                       2.0          0                3.0  \n",
       "3572289                       2.0          0                3.0  \n",
       "3572291                       2.0          0                3.0  \n",
       "\n",
       "[457887 rows x 8 columns]"
      ]
     },
     "execution_count": 5,
     "metadata": {},
     "output_type": "execute_result"
    }
   ],
   "source": [
    "values"
   ]
  },
  {
   "cell_type": "markdown",
   "id": "73f89b00",
   "metadata": {},
   "source": [
    "# Getting More Insights After Cleaning"
   ]
  },
  {
   "cell_type": "markdown",
   "id": "7de2525b",
   "metadata": {},
   "source": [
    "The box plot helps us in viewing the (range, average, median, min, max, outliers) of each variable"
   ]
  },
  {
   "cell_type": "code",
   "execution_count": 6,
   "id": "bc3fbcbb",
   "metadata": {},
   "outputs": [
    {
     "data": {
      "text/plain": [
       "<AxesSubplot:>"
      ]
     },
     "execution_count": 6,
     "metadata": {},
     "output_type": "execute_result"
    },
    {
     "data": {
      "image/png": "[encoded data removed]",
      "text/plain": [
       "<Figure size 1440x720 with 1 Axes>"
      ]
     },
     "metadata": {
      "needs_background": "light"
     },
     "output_type": "display_data"
    }
   ],
   "source": [
    "%matplotlib inline\n",
    "values.plot.box(figsize=(20,10))"
   ]
  },
  {
   "cell_type": "markdown",
   "id": "07b664e0",
   "metadata": {},
   "source": [
    "# Generating New Profile Report After Cleaning"
   ]
  },
  {
   "cell_type": "markdown",
   "id": "4b8682ff",
   "metadata": {},
   "source": [
    "The new report helps us to get more detailed insights from the clean data"
   ]
  },
  {
   "cell_type": "code",
   "execution_count": null,
   "id": "597fb7e5",
   "metadata": {},
   "outputs": [],
   "source": [
    "profile = ProfileReport(values, title=\"Pandas Profiling Report\", minimal=True)\n",
    "\n",
    "# Saving report to html file\n",
    "profile.to_file(\"Clean_Profile_Report.html\")"
   ]
  },
  {
   "cell_type": "markdown",
   "id": "2bf216a8",
   "metadata": {},
   "source": [
    "# Viewing Correlation Matrix After Cleaning"
   ]
  },
  {
   "cell_type": "code",
   "execution_count": 7,
   "id": "69e8d8b5",
   "metadata": {},
   "outputs": [
    {
     "data": {
      "image/png": "[encoded data removed]",
      "text/plain": [
       "<Figure size 432x288 with 2 Axes>"
      ]
     },
     "metadata": {
      "needs_background": "light"
     },
     "output_type": "display_data"
    }
   ],
   "source": [
    "%matplotlib inline\n",
    "\n",
    "# Generating correlation matrix\n",
    "corrMatrix = values.corr()\n",
    "\n",
    "# Converting Matrix Into Seaborn Heatmap\n",
    "sn.heatmap(corrMatrix, annot = True)\n",
    "plt.show()"
   ]
  },
  {
   "cell_type": "markdown",
   "id": "275649dc",
   "metadata": {},
   "source": [
    "# Splitting Data into Features and Labels"
   ]
  },
  {
   "cell_type": "markdown",
   "id": "4aa69cfa",
   "metadata": {},
   "source": [
    "This splitting process is longer than usual as we have to ensure that both training and testing dataframes contain sufficient amount of records for (0,1,2) Weather types\n",
    "\n",
    "The process is as follows,\n",
    "1) We split our data into 3 dataframes, one for each weather type (as we have 3 different weather types)\n",
    "\n",
    "2) We split each of those frames into 2 more frames, one for the features and one for the labels. So, we end up having 6 dataframes"
   ]
  },
  {
   "cell_type": "code",
   "execution_count": 8,
   "id": "8bd6c373",
   "metadata": {},
   "outputs": [],
   "source": [
    "# Splitting our values into 3 dataframes, one for each M_WEATHER type\n",
    "values0, values1, values2 = [x for _, x in values.groupby(df['M_WEATHER'])]\n",
    "\n",
    "# A list of our desired features\n",
    "features = ['M_SESSION_TYPE','M_TIME_OFFSET','M_TRACK_TEMPERATURE',\n",
    "                                'M_TRACK_TEMPERATURE_CHANGE','M_AIR_TEMPERATURE','M_AIR_TEMPERATURE_CHANGE']\n",
    "\n",
    "# A list of the required outputs\n",
    "labels = ['M_WEATHER','M_RAIN_PERCENTAGE']\n",
    "\n",
    "# Splitting each values frame into features and labels\n",
    "X_values0 = values0.filter(items= features)\n",
    "\n",
    "y_values0 = values0.filter(items= labels)\n",
    "\n",
    "\n",
    "\n",
    "X_values1 = values1.filter(items= features)\n",
    "\n",
    "y_values1 = values1.filter(items= labels)\n",
    "\n",
    "\n",
    "\n",
    "X_values2 = values2.filter(items= features)\n",
    "\n",
    "y_values2 = values2.filter(items= labels)"
   ]
  },
  {
   "cell_type": "markdown",
   "id": "229d2b20",
   "metadata": {},
   "source": [
    "# Splitting Data into Training and Testing "
   ]
  },
  {
   "cell_type": "markdown",
   "id": "56263255",
   "metadata": {},
   "source": [
    "Builing up on the previous step, now we have to generate the training and testing data which can be achieved by,\n",
    "1) Generating training and testing, features and labels for each dataframe of the previous step which results in 12 dataframe\n",
    "\n",
    "2) We recombine those 12 dataframe into suitable frames that we desire, resulting in our main 4 dataframes (X_train, X_test, y_train, y_test)\n",
    "\n",
    "Last step demonstrates how many value we end up with from each weather type value in both training and testing labels"
   ]
  },
  {
   "cell_type": "code",
   "execution_count": 9,
   "id": "b9c243bf",
   "metadata": {},
   "outputs": [
    {
     "name": "stdout",
     "output_type": "stream",
     "text": [
      "X_train shape :  (357013, 6)\n",
      "y_train shape :  (357013, 2)\n",
      "X_test shape :  (100874, 6)\n",
      "y_test shape :  (100874, 2)\n",
      "\n",
      "Training Variable\n",
      " value  count \n",
      " 0    244710\n",
      "1    104430\n",
      "2      7873\n",
      "Name: M_WEATHER, dtype: int64\n",
      "\n",
      "Testing Variable\n",
      " value  count\n",
      " 0    81570\n",
      "1    18429\n",
      "2      875\n",
      "Name: M_WEATHER, dtype: int64\n"
     ]
    }
   ],
   "source": [
    "# Generating train and test dataframes for each value dataframe\n",
    "random_state=3\n",
    "X_train0, X_test0, y_train0, y_test0 = train_test_split(X_values0, y_values0, test_size= 0.25, random_state=random_state)\n",
    "X_train1, X_test1, y_train1, y_test1 = train_test_split(X_values1, y_values1, test_size= 0.15, random_state=random_state)\n",
    "X_train2, X_test2, y_train2, y_test2 = train_test_split(X_values2, y_values2, test_size= 0.1, random_state=random_state)\n",
    "\n",
    "# Combining all train and test, features and labels into proper dataframes \n",
    "X_train = pd.concat([X_train0, X_train1, X_train2 ])\n",
    "X_test = pd.concat([X_test0, X_test1, X_test2 ])\n",
    "\n",
    "y_train = pd.concat([y_train0, y_train1, y_train2 ])\n",
    "y_test = pd.concat([y_test0, y_test1, y_test2 ])\n",
    "\n",
    "print(\"X_train shape : \", X_train.shape)\n",
    "print(\"y_train shape : \", y_train.shape)\n",
    "print(\"X_test shape : \", X_test.shape)\n",
    "print(\"y_test shape : \", y_test.shape)\n",
    "\n",
    "# Ensuring the train and test labels have all 3 M_WEATHER types\n",
    "print(\"\\nTraining Variable\\n value  count \\n\",y_train['M_WEATHER'].value_counts())\n",
    "print(\"\\nTesting Variable\\n value  count\\n\",y_test['M_WEATHER'].value_counts())"
   ]
  },
  {
   "cell_type": "markdown",
   "id": "a54410dc",
   "metadata": {},
   "source": [
    "# Creating The Model"
   ]
  },
  {
   "cell_type": "markdown",
   "id": "65722111",
   "metadata": {},
   "source": [
    "The main challenge was to create a model that predicts 2 values of different type (continious and discrete). In most scenarios, 2 different models were created to achieve this (one for classification and one for regression) but due to the fact that neural networks are very flexible when it comes to large datasets, we were able to perform both predictions in one model.\n",
    "\n",
    "The model consists of 2 branches, one branch for classification and the other for regression. This helps us in modifying and adjusting each layer in each branch according to the available data without affecting the other variable, making them completely independant.\n",
    "\n",
    "Each branch consists of a number of dense layers after the input layer. The classification branch ends in 6 nodes with a softmax layer to classify the weather type according to the weather types (0,1,2,3,4,5). The regression branch ends in one node with a relu layer to provide a positive percentage value.\n",
    "\n",
    "The scoring metric used was Sparse Categorical Crossentropy in the classification case and Mean Absolute Error in the regression case.\n",
    "\n",
    "The optimizer used was Adam with learning rate of 0.004.\n",
    "\n",
    "A model visualization can be viewed in a following section."
   ]
  },
  {
   "cell_type": "code",
   "execution_count": 10,
   "id": "184ed5a0",
   "metadata": {},
   "outputs": [
    {
     "name": "stdout",
     "output_type": "stream",
     "text": [
      "Model: \"Functional_Model\"\n",
      "__________________________________________________________________________________________________\n",
      "Layer (type)                    Output Shape         Param #     Connected to                     \n",
      "==================================================================================================\n",
      "Input (InputLayer)              [(None, 6)]          0                                            \n",
      "__________________________________________________________________________________________________\n",
      "Rain_Dense_1 (Dense)            (None, 12)           84          Input[0][0]                      \n",
      "__________________________________________________________________________________________________\n",
      "Weather_Dense_1 (Dense)         (None, 10)           70          Input[0][0]                      \n",
      "__________________________________________________________________________________________________\n",
      "Rain_Dense_2 (Dense)            (None, 18)           234         Rain_Dense_1[0][0]               \n",
      "__________________________________________________________________________________________________\n",
      "Weather_Dense_2 (Dense)         (None, 5)            55          Weather_Dense_1[0][0]            \n",
      "__________________________________________________________________________________________________\n",
      "Rain_Dense_3 (Dense)            (None, 8)            152         Rain_Dense_2[0][0]               \n",
      "__________________________________________________________________________________________________\n",
      "Weather_Output (Dense)          (None, 6)            36          Weather_Dense_2[0][0]            \n",
      "__________________________________________________________________________________________________\n",
      "Rain_Output (Dense)             (None, 1)            9           Rain_Dense_3[0][0]               \n",
      "==================================================================================================\n",
      "Total params: 640\n",
      "Trainable params: 640\n",
      "Non-trainable params: 0\n",
      "__________________________________________________________________________________________________\n"
     ]
    }
   ],
   "source": [
    "# Defining input layer\n",
    "inputs = keras.Input(shape=(6,), name =\"Input\")\n",
    "\n",
    "# Defining Weather branch\n",
    "dense = layers.Dense(10, activation=\"relu\", name =\"Weather_Dense_1\")\n",
    "x = dense(inputs)\n",
    "x = layers.Dense(5, activation=\"relu\", name =\"Weather_Dense_2\")(x)\n",
    "Weather_branch = layers.Dense(6, activation=\"softmax\", name =\"Weather_Output\")(x)\n",
    "\n",
    "# Defining Rain branch\n",
    "dense = layers.Dense(12, activation=\"relu\", name =\"Rain_Dense_1\")\n",
    "y = dense(inputs)\n",
    "y = layers.Dense(18, activation=\"relu\", name =\"Rain_Dense_2\")(y)\n",
    "y = layers.Dense(8, activation=\"relu\", name =\"Rain_Dense_3\")(y)\n",
    "Rain_branch = layers.Dense(1, activation=\"linear\", name =\"Rain_Output\")(y)\n",
    "\n",
    "# Defining the model\n",
    "model = keras.Model(inputs=inputs, outputs=[Weather_branch, Rain_branch], name=\"Functional_Model\")\n",
    "\n",
    "# Generating a summary\n",
    "model.summary()\n",
    "\n",
    "# Defining the loss function types\n",
    "losses = {\n",
    "    \"Weather_Output\": \"sparse_categorical_crossentropy\",\n",
    "    \"Rain_Output\": \"mean_absolute_error\"\n",
    "}\n",
    "\n",
    "# Compiling the model\n",
    "model.compile(loss=losses,\n",
    "              optimizer=keras.optimizers.Adam(learning_rate=0.004),\n",
    "              metrics=['accuracy'],\n",
    "             )"
   ]
  },
  {
   "cell_type": "markdown",
   "id": "7c058082",
   "metadata": {},
   "source": [
    "# Visualizing The Neural Network"
   ]
  },
  {
   "cell_type": "markdown",
   "id": "a14e02af",
   "metadata": {},
   "source": [
    "A simple block diagram representing the branched network where the question marks indicate that we dont know the number of rows available in the dataset which helps making the network more generic"
   ]
  },
  {
   "cell_type": "code",
   "execution_count": 11,
   "id": "17dbe3af",
   "metadata": {},
   "outputs": [
    {
     "data": {
      "image/png": "[encoded data removed]",
      "text/plain": [
       "<IPython.core.display.Image object>"
      ]
     },
     "execution_count": 11,
     "metadata": {},
     "output_type": "execute_result"
    }
   ],
   "source": [
    "plot_model(model, show_shapes=True, show_layer_names=True)"
   ]
  },
  {
   "cell_type": "markdown",
   "id": "84a22313",
   "metadata": {},
   "source": [
    "# Training Model"
   ]
  },
  {
   "cell_type": "markdown",
   "id": "9da12c96",
   "metadata": {},
   "source": [
    "The training part is the main process where we feed our dataset into the model to make it learn and predict in the future"
   ]
  },
  {
   "cell_type": "code",
   "execution_count": 12,
   "id": "84c2b1dd",
   "metadata": {},
   "outputs": [
    {
     "name": "stdout",
     "output_type": "stream",
     "text": [
      "Epoch 1/10\n",
      "11157/11157 [==============================] - 7s 672us/step - loss: 3.0848 - Weather_Output_loss: 0.5021 - Rain_Output_loss: 2.5827 - Weather_Output_accuracy: 0.7779 - Rain_Output_accuracy: 0.3057\n",
      "Epoch 2/10\n",
      "11157/11157 [==============================] - 8s 688us/step - loss: 2.5149 - Weather_Output_loss: 0.3610 - Rain_Output_loss: 2.1538 - Weather_Output_accuracy: 0.8858 - Rain_Output_accuracy: 0.3057\n",
      "Epoch 3/10\n",
      "11157/11157 [==============================] - 8s 707us/step - loss: 2.3427 - Weather_Output_loss: 0.2705 - Rain_Output_loss: 2.0722 - Weather_Output_accuracy: 0.9380 - Rain_Output_accuracy: 0.3057\n",
      "Epoch 4/10\n",
      "11157/11157 [==============================] - 8s 722us/step - loss: 2.2443 - Weather_Output_loss: 0.2192 - Rain_Output_loss: 2.0251 - Weather_Output_accuracy: 0.9477 - Rain_Output_accuracy: 0.3057\n",
      "Epoch 5/10\n",
      "11157/11157 [==============================] - 8s 678us/step - loss: 2.2267 - Weather_Output_loss: 0.2123 - Rain_Output_loss: 2.0144 - Weather_Output_accuracy: 0.9496 - Rain_Output_accuracy: 0.3057\n",
      "Epoch 6/10\n",
      "11157/11157 [==============================] - 7s 667us/step - loss: 2.1894 - Weather_Output_loss: 0.2109 - Rain_Output_loss: 1.9785 - Weather_Output_accuracy: 0.9496 - Rain_Output_accuracy: 0.3057\n",
      "Epoch 7/10\n",
      "11157/11157 [==============================] - 8s 688us/step - loss: 2.1680 - Weather_Output_loss: 0.2098 - Rain_Output_loss: 1.9582 - Weather_Output_accuracy: 0.9509 - Rain_Output_accuracy: 0.3057\n",
      "Epoch 8/10\n",
      "11157/11157 [==============================] - 8s 674us/step - loss: 2.1501 - Weather_Output_loss: 0.2074 - Rain_Output_loss: 1.9427 - Weather_Output_accuracy: 0.9515 - Rain_Output_accuracy: 0.3057\n",
      "Epoch 9/10\n",
      "11157/11157 [==============================] - 7s 650us/step - loss: 2.1408 - Weather_Output_loss: 0.2066 - Rain_Output_loss: 1.9342 - Weather_Output_accuracy: 0.9518 - Rain_Output_accuracy: 0.3057\n",
      "Epoch 10/10\n",
      "11157/11157 [==============================] - 7s 670us/step - loss: 2.1382 - Weather_Output_loss: 0.2061 - Rain_Output_loss: 1.9322 - Weather_Output_accuracy: 0.9518 - Rain_Output_accuracy: 0.3057\n"
     ]
    }
   ],
   "source": [
    "model_history = model.fit(\n",
    "    x=X_train, # Features\n",
    "    y={\"Weather_Output\": y_train[\"M_WEATHER\"], \"Rain_Output\": y_train[\"M_RAIN_PERCENTAGE\"]}, # Labels\n",
    "    epochs=10, # Number of epochs\n",
    "    verbose=1 # Training Visualization (0 = silent, 1 = progress bar, 2 = one line per epoch)\n",
    ")"
   ]
  },
  {
   "cell_type": "markdown",
   "id": "238d6882",
   "metadata": {},
   "source": [
    "# Saving Model"
   ]
  },
  {
   "cell_type": "markdown",
   "id": "85c50070",
   "metadata": {},
   "source": [
    "Saving the model so it can be used in the future without going through training again"
   ]
  },
  {
   "cell_type": "code",
   "execution_count": null,
   "id": "b1f14688",
   "metadata": {},
   "outputs": [],
   "source": [
    "model.save(\"Branched_Model.hdf5\")"
   ]
  },
  {
   "cell_type": "markdown",
   "id": "22557701",
   "metadata": {},
   "source": [
    "# Training Results"
   ]
  },
  {
   "cell_type": "markdown",
   "id": "0e9f5bad",
   "metadata": {},
   "source": [
    "Visualizing the training results for better interpretion of the results\n",
    "\n",
    "Note that, we care most about the Weather type prediction accuracy which tells us the confidence level of our weather type prediction, and the rain percentage loss which tells us the result deviation probability from the real value"
   ]
  },
  {
   "cell_type": "code",
   "execution_count": 13,
   "id": "88735531",
   "metadata": {},
   "outputs": [
    {
     "data": {
      "image/png": "[encoded data removed]",
      "text/plain": [
       "<Figure size 432x288 with 1 Axes>"
      ]
     },
     "metadata": {
      "needs_background": "light"
     },
     "output_type": "display_data"
    },
    {
     "data": {
      "image/png": "[encoded data removed]",
      "text/plain": [
       "<Figure size 432x288 with 1 Axes>"
      ]
     },
     "metadata": {
      "needs_background": "light"
     },
     "output_type": "display_data"
    }
   ],
   "source": [
    "# Plotting model accuracy scaling from 0(0%) to 1(100%)\n",
    "plt.plot(model_history.history['Weather_Output_accuracy'])\n",
    "plt.title('Weather prediction accuracy')\n",
    "plt.ylabel('accuracy')\n",
    "plt.xlabel('epoch')\n",
    "plt.show()\n",
    "\n",
    "# Plotting model loss\n",
    "plt.plot(model_history.history['Rain_Output_loss'])\n",
    "plt.title('Rain_Output_loss')\n",
    "plt.ylabel('loss')\n",
    "plt.xlabel('epoch')\n",
    "plt.show()"
   ]
  },
  {
   "cell_type": "markdown",
   "id": "6c72a64d",
   "metadata": {},
   "source": [
    "# Testing Model"
   ]
  },
  {
   "cell_type": "markdown",
   "id": "bdb482a5",
   "metadata": {},
   "source": [
    "Using our trained model to predict the testing data and printing our the weather type prediction accuracy and the rain percentage error margin"
   ]
  },
  {
   "cell_type": "code",
   "execution_count": 14,
   "id": "8afd413e",
   "metadata": {},
   "outputs": [
    {
     "name": "stdout",
     "output_type": "stream",
     "text": [
      "3153/3153 [==============================] - 2s 536us/step - loss: 1.9066 - Weather_Output_loss: 0.1371 - Rain_Output_loss: 1.7695 - Weather_Output_accuracy: 0.9702 - Rain_Output_accuracy: 0.3224\n",
      "Weather Type Test Accuracy :  97.02 %\n",
      "Rain Percentage Test Loss :  1.77\n"
     ]
    }
   ],
   "source": [
    "test_loss, test_weather_loss, test_rain_loss, test_weather_accuracy, test_rain_accuracy =  model.evaluate(\n",
    "    X_test, # Testing features\n",
    "    {\"Weather_Output\": y_test[\"M_WEATHER\"], \"Rain_Output\": y_test[\"M_RAIN_PERCENTAGE\"]} # Testing labels\n",
    ")\n",
    "\n",
    "print(\"Weather Type Test Accuracy :  \" + str(round(test_weather_accuracy*100,2)) + \" %\")\n",
    "print(\"Rain Percentage Test Loss : \", round(test_rain_loss,2))"
   ]
  },
  {
   "cell_type": "markdown",
   "id": "01d2679c",
   "metadata": {},
   "source": [
    "# Visualizing Results"
   ]
  },
  {
   "cell_type": "markdown",
   "id": "106b301b",
   "metadata": {},
   "source": [
    "Visualizing the model test results in proper plots"
   ]
  },
  {
   "cell_type": "code",
   "execution_count": 15,
   "id": "b93177ee",
   "metadata": {},
   "outputs": [
    {
     "data": {
      "text/plain": [
       "<AxesSubplot:title={'center':'Model Average Uncertainity For Predicting Rain Percentage'}>"
      ]
     },
     "execution_count": 15,
     "metadata": {},
     "output_type": "execute_result"
    },
    {
     "data": {
      "image/png": "[encoded data removed]",
      "text/plain": [
       "<Figure size 576x576 with 1 Axes>"
      ]
     },
     "metadata": {
      "needs_background": "light"
     },
     "output_type": "display_data"
    },
    {
     "data": {
      "image/png": "[encoded data removed]",
      "text/plain": [
       "<Figure size 576x576 with 1 Axes>"
      ]
     },
     "metadata": {
      "needs_background": "light"
     },
     "output_type": "display_data"
    }
   ],
   "source": [
    "# Plotting Weather Type Prediction Accuracy results\n",
    "accuracy = pd.DataFrame([['',\n",
    "                    model_history.history[\"Weather_Output_accuracy\"][-1]*100 ,\n",
    "                    test_weather_accuracy*100]],\n",
    "                  columns=['Neural Network Model', 'Train', 'Test'])\n",
    "\n",
    "\n",
    "accuracy.plot(\n",
    "        kind='bar',\n",
    "        stacked=False,\n",
    "        figsize=(8,8),\n",
    "        ylim=(75,100),\n",
    "        title='Model Accuracy For Predicting Weather Type')\n",
    "\n",
    "\n",
    "# Plotting Rain Percentage Prediction Deviation results\n",
    "deviation = pd.DataFrame({\n",
    "   'A Predicted Value': [0],\n",
    "   'Lower margin': [-round(test_rain_loss,2)],\n",
    "    'Upper margin': [round(test_rain_loss,2)]\n",
    "   }, index=[0,1])\n",
    "\n",
    "deviation.plot(\n",
    "        kind='line',\n",
    "        figsize=(8,8),\n",
    "        title='Model Average Uncertainity For Predicting Rain Percentage')\n"
   ]
  },
  {
   "cell_type": "markdown",
   "id": "83fbc093",
   "metadata": {},
   "source": [
    "# Shaping The Output"
   ]
  },
  {
   "cell_type": "markdown",
   "id": "047bc46e",
   "metadata": {},
   "source": [
    "After proper training and testing are done, its time to shape the resulted predictions into the desired dictionary-based style. Thats where the predict function comes in handy, it takes (a trained mode, the sample to test) as main arguments.\n",
    "\n",
    "Additional arguments include:\n",
    "\n",
    "- return_dict : \n",
    "    This can be set to 1 to return output as the desired dictionary or\n",
    "    It can be set to 0 to return output as a pandas dataframe.\n",
    "\n",
    "\n",
    "- return_preds_only : \n",
    "   This can be set to 1 to return output as model predictions only or\n",
    "    It can be set to 0 to return output as a joined table of both input and predicted data.\n",
    "    \n",
    "    Note that return_preds_only can only have effect if return_dict is set to 0"
   ]
  },
  {
   "cell_type": "code",
   "execution_count": 113,
   "id": "1203994b",
   "metadata": {},
   "outputs": [],
   "source": [
    "def predict(model ,sample, return_dict=1,return_preds_only=0):\n",
    "    # Initializing our variables\n",
    "    short = 0\n",
    "    long = 0\n",
    "    time=[]\n",
    "    dic={}\n",
    "    big = sample.copy() # big is a big dataframe containing all data\n",
    "    one = big.iloc[0] # one is the first row int the big frame\n",
    "    big = big.append(one, ignore_index=True)\n",
    "    \n",
    "    # Adding the 5 time offset\n",
    "    one['M_TIME_OFFSET'] = 5\n",
    "    big = big.append(one, ignore_index=True)\n",
    "    \n",
    "    #Adding other offsets\n",
    "    \n",
    "    # Practice Race Type, Predicting to 60 mins \n",
    "    if ( sample.iloc[0]['M_SESSION_TYPE'] == 1):\n",
    "        time = [10,15,30,60]\n",
    "        long = 1\n",
    "    elif ( sample.iloc[0]['M_SESSION_TYPE'] == 2):\n",
    "        time = [10,15,30,60]\n",
    "        long = 1\n",
    "    elif ( sample.iloc[0]['M_SESSION_TYPE'] == 3):\n",
    "        time = [10,15,30,60]\n",
    "        long = 1   \n",
    "\n",
    "    # Qualifying Race Type, Predicting to 15 mins     \n",
    "    elif (sample.iloc[0]['M_SESSION_TYPE'] == 5 ):\n",
    "        time = [10,15]\n",
    "        short = 1\n",
    "    elif (sample.iloc[0]['M_SESSION_TYPE'] == 6 ):\n",
    "        time = [10,15]\n",
    "        short = 1\n",
    "    elif (sample.iloc[0]['M_SESSION_TYPE'] == 7 ):\n",
    "        time = [10,15]\n",
    "        short = 1\n",
    "    \n",
    "    # Any other session type is considered long session\n",
    "    else:\n",
    "        time = [10,15,30,60]\n",
    "        long = 1\n",
    "        \n",
    "         \n",
    "        \n",
    "    for i in time:\n",
    "        one['M_TIME_OFFSET'] = i\n",
    "        big = big.append(one)\n",
    "        \n",
    "    \n",
    "    big = big[big.M_TIME_OFFSET != 0]\n",
    "    big = big.drop_duplicates(ignore_index=True)\n",
    "        \n",
    "    pred = model.predict(big)\n",
    "    weather_type_arr = pred[0]\n",
    "    weather_type=[]\n",
    "    rain_percentage=[]\n",
    "    for i in range(len(weather_type_arr)):\n",
    "        weather_type.append(np.argmax(weather_type_arr[0][i]))\n",
    "        rain_percentage.append(pred[1][i])\n",
    "    \n",
    "    weather_type= pd.DataFrame(weather_type, columns= ['Weather Type'])\n",
    "    rain_percentage= pd.DataFrame(rain_percentage, columns= ['Rain Percentage'])\n",
    "    big = pd.concat([big,weather_type,rain_percentage],axis=1)\n",
    "    if (return_dict == 0):\n",
    "        if (return_preds_only == 0):\n",
    "            return big\n",
    "        elif (return_preds_only == 1):\n",
    "            return pd.concat([big[\"M_TIME_OFFSET\"],weather_type,rain_percentage],axis=1)\n",
    "    \n",
    "    elif (return_dict == 1):\n",
    "        if (short):\n",
    "            dic={'5':{}, '10':{}, '15':{} }\n",
    "            for i in range(len(big['M_TIME_OFFSET'])):\n",
    "                dic[str(int(big['M_TIME_OFFSET'][i]))]= {\n",
    "                    'Type': big[\"Weather Type\"][i], big[\"Weather Type\"][i]: big[\"Rain Percentage\"][i]}\n",
    "        elif (long):\n",
    "            dic= {'5':{}, '10':{}, '15':{}, '30':{}, '60':{} }\n",
    "            for i in range(len(big['M_TIME_OFFSET'])):\n",
    "                dic[str(int(big['M_TIME_OFFSET'][i]))]={\n",
    "                    'Type': big[\"Weather Type\"][i], big[\"Weather Type\"][i]: big[\"Rain Percentage\"][i]}\n",
    "        return dic"
   ]
  },
  {
   "cell_type": "markdown",
   "id": "2c683656",
   "metadata": {},
   "source": [
    "# Loading a Pre-Trained Model"
   ]
  },
  {
   "cell_type": "code",
   "execution_count": 99,
   "id": "fe9ee7e2",
   "metadata": {},
   "outputs": [
    {
     "name": "stdout",
     "output_type": "stream",
     "text": [
      "Model: \"Functional_Model\"\n",
      "__________________________________________________________________________________________________\n",
      "Layer (type)                    Output Shape         Param #     Connected to                     \n",
      "==================================================================================================\n",
      "Input (InputLayer)              [(None, 6)]          0                                            \n",
      "__________________________________________________________________________________________________\n",
      "Rain_Dense_1 (Dense)            (None, 12)           84          Input[0][0]                      \n",
      "__________________________________________________________________________________________________\n",
      "Weather_Dense_1 (Dense)         (None, 10)           70          Input[0][0]                      \n",
      "__________________________________________________________________________________________________\n",
      "Rain_Dense_2 (Dense)            (None, 18)           234         Rain_Dense_1[0][0]               \n",
      "__________________________________________________________________________________________________\n",
      "Weather_Dense_2 (Dense)         (None, 5)            55          Weather_Dense_1[0][0]            \n",
      "__________________________________________________________________________________________________\n",
      "Rain_Dense_3 (Dense)            (None, 8)            152         Rain_Dense_2[0][0]               \n",
      "__________________________________________________________________________________________________\n",
      "Weather_Output (Dense)          (None, 6)            36          Weather_Dense_2[0][0]            \n",
      "__________________________________________________________________________________________________\n",
      "Rain_Output (Dense)             (None, 1)            9           Rain_Dense_3[0][0]               \n",
      "==================================================================================================\n",
      "Total params: 640\n",
      "Trainable params: 640\n",
      "Non-trainable params: 0\n",
      "__________________________________________________________________________________________________\n"
     ]
    }
   ],
   "source": [
    "loaded_model = keras.models.load_model(\"Branched_Model.hdf5\")\n",
    "loaded_model.summary()"
   ]
  },
  {
   "cell_type": "markdown",
   "id": "645b1916",
   "metadata": {},
   "source": [
    "# Testing Loaded Model"
   ]
  },
  {
   "cell_type": "markdown",
   "id": "0fad6e00",
   "metadata": {},
   "source": [
    "Here we demonstrate how the model handles input data and what it outputs.\n",
    "\n",
    "Note That the input data has to be in a specific format (Single pandas dataframe row) with specific column names as follows.\n",
    "\n",
    "Then we test the 3 different output scenarios. Note that the testing row has"
   ]
  },
  {
   "cell_type": "code",
   "execution_count": 114,
   "id": "87ce19e9",
   "metadata": {},
   "outputs": [
    {
     "data": {
      "text/html": [
       "<div>\n",
       "<style scoped>\n",
       "    .dataframe tbody tr th:only-of-type {\n",
       "        vertical-align: middle;\n",
       "    }\n",
       "\n",
       "    .dataframe tbody tr th {\n",
       "        vertical-align: top;\n",
       "    }\n",
       "\n",
       "    .dataframe thead th {\n",
       "        text-align: right;\n",
       "    }\n",
       "</style>\n",
       "<table border=\"1\" class=\"dataframe\">\n",
       "  <thead>\n",
       "    <tr style=\"text-align: right;\">\n",
       "      <th></th>\n",
       "      <th>M_SESSION_TYPE</th>\n",
       "      <th>M_TIME_OFFSET</th>\n",
       "      <th>M_TRACK_TEMPERATURE</th>\n",
       "      <th>M_TRACK_TEMPERATURE_CHANGE</th>\n",
       "      <th>M_AIR_TEMPERATURE</th>\n",
       "      <th>M_AIR_TEMPERATURE_CHANGE</th>\n",
       "    </tr>\n",
       "  </thead>\n",
       "  <tbody>\n",
       "    <tr>\n",
       "      <th>1615179</th>\n",
       "      <td>8.0</td>\n",
       "      <td>0</td>\n",
       "      <td>33.0</td>\n",
       "      <td>2.0</td>\n",
       "      <td>25.0</td>\n",
       "      <td>2.0</td>\n",
       "    </tr>\n",
       "  </tbody>\n",
       "</table>\n",
       "</div>"
      ],
      "text/plain": [
       "         M_SESSION_TYPE  M_TIME_OFFSET  M_TRACK_TEMPERATURE  \\\n",
       "1615179             8.0              0                 33.0   \n",
       "\n",
       "         M_TRACK_TEMPERATURE_CHANGE  M_AIR_TEMPERATURE  \\\n",
       "1615179                         2.0               25.0   \n",
       "\n",
       "         M_AIR_TEMPERATURE_CHANGE  \n",
       "1615179                       2.0  "
      ]
     },
     "execution_count": 114,
     "metadata": {},
     "output_type": "execute_result"
    }
   ],
   "source": [
    "test[\"M_TIME_OFFSET\"]=0\n",
    "test"
   ]
  },
  {
   "cell_type": "code",
   "execution_count": 115,
   "id": "f75817a9",
   "metadata": {},
   "outputs": [
    {
     "data": {
      "text/plain": [
       "{'5': {'Type': 0, 0: 3.0424108505249023},\n",
       " '10': {'Type': 0, 0: 2.783912420272827},\n",
       " '15': {'Type': 0, 0: 2.950083017349243},\n",
       " '30': {'Type': 0, 0: 2.0677220821380615},\n",
       " '60': {'Type': 0, 0: 2.013528823852539}}"
      ]
     },
     "execution_count": 115,
     "metadata": {},
     "output_type": "execute_result"
    }
   ],
   "source": [
    "output = predict(loaded_model,test, return_dict= 1, return_preds_only= 0)\n",
    "output"
   ]
  },
  {
   "cell_type": "code",
   "execution_count": 116,
   "id": "ca0363a7",
   "metadata": {},
   "outputs": [
    {
     "data": {
      "text/html": [
       "<div>\n",
       "<style scoped>\n",
       "    .dataframe tbody tr th:only-of-type {\n",
       "        vertical-align: middle;\n",
       "    }\n",
       "\n",
       "    .dataframe tbody tr th {\n",
       "        vertical-align: top;\n",
       "    }\n",
       "\n",
       "    .dataframe thead th {\n",
       "        text-align: right;\n",
       "    }\n",
       "</style>\n",
       "<table border=\"1\" class=\"dataframe\">\n",
       "  <thead>\n",
       "    <tr style=\"text-align: right;\">\n",
       "      <th></th>\n",
       "      <th>M_TIME_OFFSET</th>\n",
       "      <th>Weather Type</th>\n",
       "      <th>Rain Percentage</th>\n",
       "    </tr>\n",
       "  </thead>\n",
       "  <tbody>\n",
       "    <tr>\n",
       "      <th>0</th>\n",
       "      <td>5.0</td>\n",
       "      <td>0</td>\n",
       "      <td>3.042411</td>\n",
       "    </tr>\n",
       "    <tr>\n",
       "      <th>1</th>\n",
       "      <td>10.0</td>\n",
       "      <td>0</td>\n",
       "      <td>2.783912</td>\n",
       "    </tr>\n",
       "    <tr>\n",
       "      <th>2</th>\n",
       "      <td>15.0</td>\n",
       "      <td>0</td>\n",
       "      <td>2.950083</td>\n",
       "    </tr>\n",
       "    <tr>\n",
       "      <th>3</th>\n",
       "      <td>30.0</td>\n",
       "      <td>0</td>\n",
       "      <td>2.067722</td>\n",
       "    </tr>\n",
       "    <tr>\n",
       "      <th>4</th>\n",
       "      <td>60.0</td>\n",
       "      <td>0</td>\n",
       "      <td>2.013529</td>\n",
       "    </tr>\n",
       "  </tbody>\n",
       "</table>\n",
       "</div>"
      ],
      "text/plain": [
       "   M_TIME_OFFSET  Weather Type  Rain Percentage\n",
       "0            5.0             0         3.042411\n",
       "1           10.0             0         2.783912\n",
       "2           15.0             0         2.950083\n",
       "3           30.0             0         2.067722\n",
       "4           60.0             0         2.013529"
      ]
     },
     "execution_count": 116,
     "metadata": {},
     "output_type": "execute_result"
    }
   ],
   "source": [
    "output = predict(loaded_model,test, return_dict= 0, return_preds_only= 1)\n",
    "output"
   ]
  },
  {
   "cell_type": "code",
   "execution_count": 117,
   "id": "e3e7e003",
   "metadata": {},
   "outputs": [
    {
     "data": {
      "text/html": [
       "<div>\n",
       "<style scoped>\n",
       "    .dataframe tbody tr th:only-of-type {\n",
       "        vertical-align: middle;\n",
       "    }\n",
       "\n",
       "    .dataframe tbody tr th {\n",
       "        vertical-align: top;\n",
       "    }\n",
       "\n",
       "    .dataframe thead th {\n",
       "        text-align: right;\n",
       "    }\n",
       "</style>\n",
       "<table border=\"1\" class=\"dataframe\">\n",
       "  <thead>\n",
       "    <tr style=\"text-align: right;\">\n",
       "      <th></th>\n",
       "      <th>M_SESSION_TYPE</th>\n",
       "      <th>M_TIME_OFFSET</th>\n",
       "      <th>M_TRACK_TEMPERATURE</th>\n",
       "      <th>M_TRACK_TEMPERATURE_CHANGE</th>\n",
       "      <th>M_AIR_TEMPERATURE</th>\n",
       "      <th>M_AIR_TEMPERATURE_CHANGE</th>\n",
       "      <th>Weather Type</th>\n",
       "      <th>Rain Percentage</th>\n",
       "    </tr>\n",
       "  </thead>\n",
       "  <tbody>\n",
       "    <tr>\n",
       "      <th>0</th>\n",
       "      <td>8.0</td>\n",
       "      <td>5.0</td>\n",
       "      <td>33.0</td>\n",
       "      <td>2.0</td>\n",
       "      <td>25.0</td>\n",
       "      <td>2.0</td>\n",
       "      <td>0</td>\n",
       "      <td>3.042411</td>\n",
       "    </tr>\n",
       "    <tr>\n",
       "      <th>1</th>\n",
       "      <td>8.0</td>\n",
       "      <td>10.0</td>\n",
       "      <td>33.0</td>\n",
       "      <td>2.0</td>\n",
       "      <td>25.0</td>\n",
       "      <td>2.0</td>\n",
       "      <td>0</td>\n",
       "      <td>2.783912</td>\n",
       "    </tr>\n",
       "    <tr>\n",
       "      <th>2</th>\n",
       "      <td>8.0</td>\n",
       "      <td>15.0</td>\n",
       "      <td>33.0</td>\n",
       "      <td>2.0</td>\n",
       "      <td>25.0</td>\n",
       "      <td>2.0</td>\n",
       "      <td>0</td>\n",
       "      <td>2.950083</td>\n",
       "    </tr>\n",
       "    <tr>\n",
       "      <th>3</th>\n",
       "      <td>8.0</td>\n",
       "      <td>30.0</td>\n",
       "      <td>33.0</td>\n",
       "      <td>2.0</td>\n",
       "      <td>25.0</td>\n",
       "      <td>2.0</td>\n",
       "      <td>0</td>\n",
       "      <td>2.067722</td>\n",
       "    </tr>\n",
       "    <tr>\n",
       "      <th>4</th>\n",
       "      <td>8.0</td>\n",
       "      <td>60.0</td>\n",
       "      <td>33.0</td>\n",
       "      <td>2.0</td>\n",
       "      <td>25.0</td>\n",
       "      <td>2.0</td>\n",
       "      <td>0</td>\n",
       "      <td>2.013529</td>\n",
       "    </tr>\n",
       "  </tbody>\n",
       "</table>\n",
       "</div>"
      ],
      "text/plain": [
       "   M_SESSION_TYPE  M_TIME_OFFSET  M_TRACK_TEMPERATURE  \\\n",
       "0             8.0            5.0                 33.0   \n",
       "1             8.0           10.0                 33.0   \n",
       "2             8.0           15.0                 33.0   \n",
       "3             8.0           30.0                 33.0   \n",
       "4             8.0           60.0                 33.0   \n",
       "\n",
       "   M_TRACK_TEMPERATURE_CHANGE  M_AIR_TEMPERATURE  M_AIR_TEMPERATURE_CHANGE  \\\n",
       "0                         2.0               25.0                       2.0   \n",
       "1                         2.0               25.0                       2.0   \n",
       "2                         2.0               25.0                       2.0   \n",
       "3                         2.0               25.0                       2.0   \n",
       "4                         2.0               25.0                       2.0   \n",
       "\n",
       "   Weather Type  Rain Percentage  \n",
       "0             0         3.042411  \n",
       "1             0         2.783912  \n",
       "2             0         2.950083  \n",
       "3             0         2.067722  \n",
       "4             0         2.013529  "
      ]
     },
     "execution_count": 117,
     "metadata": {},
     "output_type": "execute_result"
    }
   ],
   "source": [
    "output = predict(loaded_model,test, return_dict= 0, return_preds_only= 0)\n",
    "output"
   ]
  },
  {
   "cell_type": "code",
   "execution_count": null,
   "id": "cbf18c73",
   "metadata": {},
   "outputs": [],
   "source": []
  }
 ],
 "metadata": {
  "kernelspec": {
   "display_name": "Python 3",
   "language": "python",
   "name": "python3"
  },
  "language_info": {
   "codemirror_mode": {
    "name": "ipython",
    "version": 3
   },
   "file_extension": ".py",
   "mimetype": "text/x-python",
   "name": "python",
   "nbconvert_exporter": "python",
   "pygments_lexer": "ipython3",
   "version": "3.8.8"
  }
 },
 "nbformat": 4,
 "nbformat_minor": 5
}
